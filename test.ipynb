{
 "cells": [
  {
   "cell_type": "code",
   "execution_count": 1,
   "metadata": {},
   "outputs": [
    {
     "name": "stdout",
     "output_type": "stream",
     "text": [
      "{'username': 'choiza11', 'num_of_posts': {'count': 1502}, 'followers': {'count': 281760}, 'following': {'count': 1014}, 'profile_image': 'https://scontent-ssn1-1.cdninstagram.com/v/t51.2885-19/s320x320/58694290_601120753720287_842087853742620672_n.jpg?_nc_ht=scontent-ssn1-1.cdninstagram.com&_nc_cat=1&_nc_ohc=8KGfuuACHWkAX9de3H2&edm=ABfd0MgBAAAA&ccb=7-4&oh=00_AT-93XpKJJsf5z2fVZAXg9SBaB7lX3y-u7gmtLoKUZZboQ&oe=61C58108&_nc_sid=7bff83', 'bio': '', 'bio_url': '', 'alias': '', 'isprivate': False, 'posts': [{'caption': '동행\\n\\n#한국인의술상', 'location': {}, 'imgs': [], 'imgdesc': [], 'preview_img': [{'configHeight': 150, 'configWidth': 150, 'src': 'https://scontent-ssn1-1.cdninstagram.com/v/t51.2885-15/e35/c0.180.1440.1440a/s150x150/268065920_644706196567203_5293196621372775534_n.jpg?_nc_ht=scontent-ssn1-1.cdninstagram.com&_nc_cat=103&_nc_ohc=4RzwVin_OycAX-JyFNb&edm=ABfd0MgBAAAA&ccb=7-4&oh=00_AT-38VnkN46E2tnDboI018G9G6apdNiCm6DF_ybw2_Bl6g&oe=61C5C16B&_nc_sid=7bff83'}, {'configHeight': 240, 'configWidth': 240, 'src': 'https://scontent-ssn1-1.cdninstagram.com/v/t51.2885-15/e35/c0.180.1440.1440a/s240x240/268065920_644706196567203_5293196621372775534_n.jpg?_nc_ht=scontent-ssn1-1.cdninstagram.com&_nc_cat=103&_nc_ohc=4RzwVin_OycAX-JyFNb&edm=ABfd0MgBAAAA&ccb=7-4&oh=00_AT8Ld8jq18pJQnFbFjpIk2Hx0D2X0sZIN9aDy7lYVCquVw&oe=61C6B76D&_nc_sid=7bff83'}, {'configHeight': 320, 'configWidth': 320, 'src': 'https://scontent-ssn1-1.cdninstagram.com/v/t51.2885-15/e35/c0.180.1440.1440a/s320x320/268065920_644706196567203_5293196621372775534_n.jpg?_nc_ht=scontent-ssn1-1.cdninstagram.com&_nc_cat=103&_nc_ohc=4RzwVin_OycAX-JyFNb&edm=ABfd0MgBAAAA&ccb=7-4&oh=00_AT9kRMtoUdvnEPPTS2noAQD3UvvWMax51cE0ZDdA3y7Kqw&oe=61C51E13&_nc_sid=7bff83'}, {'configHeight': 480, 'configWidth': 480, 'src': 'https://scontent-ssn1-1.cdninstagram.com/v/t51.2885-15/e35/c0.180.1440.1440a/s480x480/268065920_644706196567203_5293196621372775534_n.jpg?_nc_ht=scontent-ssn1-1.cdninstagram.com&_nc_cat=103&_nc_ohc=4RzwVin_OycAX-JyFNb&edm=ABfd0MgBAAAA&ccb=7-4&oh=00_AT-qcSvPph1bEKre9Hys_iSFPBNrJmLCjFGI4BGVFw0pQA&oe=61C6E616&_nc_sid=7bff83'}, {'configHeight': 640, 'configWidth': 640, 'src': 'https://scontent-ssn1-1.cdninstagram.com/v/t51.2885-15/sh0.08/e35/c0.180.1440.1440a/s640x640/268065920_644706196567203_5293196621372775534_n.jpg?_nc_ht=scontent-ssn1-1.cdninstagram.com&_nc_cat=103&_nc_ohc=4RzwVin_OycAX-JyFNb&edm=ABfd0MgBAAAA&ccb=7-4&oh=00_AT_24nmwXYT78iAYn3k98-ibOAReo8aPHB4iXCYIuNUypA&oe=61C5C4DB&_nc_sid=7bff83'}], 'date': 1639801134, 'tags': [], 'likes': {'count': 4369, 'list': []}, 'views': -1, 'url': 'https://www.instagram.com/p/CXnEsJOvSxj/', 'comments': {'count': 31, 'list': []}, 'mentions': []}, {'caption': '이집 다 맛있지만 팔보채는 진짜 보약이라고 봐. \\n\\n#최자로드5 #상수 #쇼미9 #다듀팀', 'location': {'location_url': 'https://www.instagram.com/explore/locations/250343415//', 'location_name': '맛이차이나', 'location_id': '250343415', 'latitude': None, 'longitude': None}, 'imgs': [], 'imgdesc': [], 'preview_img': [{'configHeight': 150, 'configWidth': 150, 'src': 'https://scontent-ssn1-1.cdninstagram.com/v/t51.2885-15/e35/c318.0.803.803a/s150x150/267593295_1952490928270770_6218149172236266326_n.jpg?_nc_ht=scontent-ssn1-1.cdninstagram.com&_nc_cat=106&_nc_ohc=IyoTvZ2bQicAX91Xp_q&edm=ABfd0MgBAAAA&ccb=7-4&oh=00_AT_EVv8yZsqKPkhjlJ6l3r_hKlMoi6uslx0rFGrEJ1sWFg&oe=61C653D8&_nc_sid=7bff83'}, {'configHeight': 240, 'configWidth': 240, 'src': 'https://scontent-ssn1-1.cdninstagram.com/v/t51.2885-15/e35/c318.0.803.803a/s240x240/267593295_1952490928270770_6218149172236266326_n.jpg?_nc_ht=scontent-ssn1-1.cdninstagram.com&_nc_cat=106&_nc_ohc=IyoTvZ2bQicAX91Xp_q&edm=ABfd0MgBAAAA&ccb=7-4&oh=00_AT9HM753R4ptLnrhcwKjw4WULIeFDH5xkMpdwb1IQeE8WQ&oe=61C639A0&_nc_sid=7bff83'}, {'configHeight': 320, 'configWidth': 320, 'src': 'https://scontent-ssn1-1.cdninstagram.com/v/t51.2885-15/e35/c318.0.803.803a/s320x320/267593295_1952490928270770_6218149172236266326_n.jpg?_nc_ht=scontent-ssn1-1.cdninstagram.com&_nc_cat=106&_nc_ohc=IyoTvZ2bQicAX91Xp_q&edm=ABfd0MgBAAAA&ccb=7-4&oh=00_AT9nGsEnXyxGP6-CGI54qqQi-ylVrZ_tmfLWDJjHnoj8MA&oe=61C50CC1&_nc_sid=7bff83'}, {'configHeight': 480, 'configWidth': 480, 'src': 'https://scontent-ssn1-1.cdninstagram.com/v/t51.2885-15/e35/c318.0.803.803a/s480x480/267593295_1952490928270770_6218149172236266326_n.jpg?_nc_ht=scontent-ssn1-1.cdninstagram.com&_nc_cat=106&_nc_ohc=IyoTvZ2bQicAX91Xp_q&edm=ABfd0MgBAAAA&ccb=7-4&oh=00_AT_0KQByEfCEdf8n5322kDutw_ZXpphg9Nx5uAZnDsfjVA&oe=61C57203&_nc_sid=7bff83'}, {'configHeight': 640, 'configWidth': 640, 'src': 'https://scontent-ssn1-1.cdninstagram.com/v/t51.2885-15/sh0.08/e35/c318.0.803.803a/s640x640/267593295_1952490928270770_6218149172236266326_n.jpg?_nc_ht=scontent-ssn1-1.cdninstagram.com&_nc_cat=106&_nc_ohc=IyoTvZ2bQicAX91Xp_q&edm=ABfd0MgBAAAA&ccb=7-4&oh=00_AT8Zn_lFjIru_AJjwbHPhaM0_j5MFEi3vBCljGKbQ7nH4w&oe=61C54FAA&_nc_sid=7bff83'}], 'date': 1639648804, 'tags': [], 'likes': {'count': 3029, 'list': []}, 'views': -1, 'url': 'https://www.instagram.com/p/CXiiJLGP4nD/', 'comments': {'count': 37, 'list': []}, 'mentions': []}, {'caption': '이집은 사이드랑 반찬이 넘 심하게 좋아서  고기를 많이 못 먹는다고 봐.', 'location': {'location_url': 'https://www.instagram.com/explore/locations/101487408377339//', 'location_name': '압구정 진주', 'location_id': '101487408377339', 'latitude': None, 'longitude': None}, 'imgs': [], 'imgdesc': [], 'preview_img': [{'configHeight': 150, 'configWidth': 150, 'src': 'https://scontent-ssn1-1.cdninstagram.com/v/t51.2885-15/e35/c180.0.1080.1080a/s150x150/267256054_4560270170709050_2498273543189770857_n.jpg?_nc_ht=scontent-ssn1-1.cdninstagram.com&_nc_cat=102&_nc_ohc=KAFV2gqJmJgAX8k2vyO&edm=ABfd0MgBAAAA&ccb=7-4&oh=00_AT8hG-R9SHXKBp_yIOBtuSZEccWNjjaalLS4y9Ji5r5piQ&oe=61C66752&_nc_sid=7bff83'}, {'configHeight': 240, 'configWidth': 240, 'src': 'https://scontent-ssn1-1.cdninstagram.com/v/t51.2885-15/e35/c180.0.1080.1080a/s240x240/267256054_4560270170709050_2498273543189770857_n.jpg?_nc_ht=scontent-ssn1-1.cdninstagram.com&_nc_cat=102&_nc_ohc=KAFV2gqJmJgAX8k2vyO&edm=ABfd0MgBAAAA&ccb=7-4&oh=00_AT_aKzLHA1REt-ieKaxa5vJ29FR4OPJM24jcRoLL1GjF9Q&oe=61C5C55A&_nc_sid=7bff83'}, {'configHeight': 320, 'configWidth': 320, 'src': 'https://scontent-ssn1-1.cdninstagram.com/v/t51.2885-15/e35/c180.0.1080.1080a/s320x320/267256054_4560270170709050_2498273543189770857_n.jpg?_nc_ht=scontent-ssn1-1.cdninstagram.com&_nc_cat=102&_nc_ohc=KAFV2gqJmJgAX8k2vyO&edm=ABfd0MgBAAAA&ccb=7-4&oh=00_AT-P67K9ww_UhYI6V_kt9pcbhXoJhRmjL1kVjCfb1lyiUA&oe=61C6A2C7&_nc_sid=7bff83'}, {'configHeight': 480, 'configWidth': 480, 'src': 'https://scontent-ssn1-1.cdninstagram.com/v/t51.2885-15/e35/c180.0.1080.1080a/s480x480/267256054_4560270170709050_2498273543189770857_n.jpg?_nc_ht=scontent-ssn1-1.cdninstagram.com&_nc_cat=102&_nc_ohc=KAFV2gqJmJgAX8k2vyO&edm=ABfd0MgBAAAA&ccb=7-4&oh=00_AT_kuUzZxgkdVdO7GG2ZqX6xLf2AozVsoHMGfih0OWiLCQ&oe=61C546C5&_nc_sid=7bff83'}, {'configHeight': 640, 'configWidth': 640, 'src': 'https://scontent-ssn1-1.cdninstagram.com/v/t51.2885-15/sh0.08/e35/c180.0.1080.1080a/s640x640/267256054_4560270170709050_2498273543189770857_n.jpg?_nc_ht=scontent-ssn1-1.cdninstagram.com&_nc_cat=102&_nc_ohc=KAFV2gqJmJgAX8k2vyO&edm=ABfd0MgBAAAA&ccb=7-4&oh=00_AT_A-yC6jCkH1jnX4cDjIlrgZJZcrlPp7OHJazLR1PNLWw&oe=61C5847F&_nc_sid=7bff83'}], 'date': 1639464354, 'tags': [], 'likes': {'count': 10224, 'list': []}, 'views': -1, 'url': 'https://www.instagram.com/p/CXdCVYqPCg7/', 'comments': {'count': 307, 'list': []}, 'mentions': []}, {'caption': '산 처럼 크신 선생님과 함께 나눈 좋은 술과 좋은 이야기. 인생 최고의 순간들 중 하나로 기억될것같다. \\n\\n#한국인의술상', 'location': {}, 'imgs': [], 'imgdesc': [], 'preview_img': [{'configHeight': 84, 'configWidth': 150, 'src': 'https://scontent-ssn1-1.cdninstagram.com/v/t51.2885-15/e35/s150x150/265180693_435725061599079_2124485962759779003_n.jpg?_nc_ht=scontent-ssn1-1.cdninstagram.com&_nc_cat=103&_nc_ohc=9KKcvifgvLwAX84CFrZ&tn=8Zss7M7Fd5zAw6-s&edm=ABfd0MgBAAAA&ccb=7-4&oh=00_AT-SCvl05r4P96DK1EHY4VAQdqujBDbdlsxidzoZQY_vFg&oe=61C17427&_nc_sid=7bff83'}, {'configHeight': 135, 'configWidth': 240, 'src': 'https://scontent-ssn1-1.cdninstagram.com/v/t51.2885-15/e35/s240x240/265180693_435725061599079_2124485962759779003_n.jpg?_nc_ht=scontent-ssn1-1.cdninstagram.com&_nc_cat=103&_nc_ohc=9KKcvifgvLwAX84CFrZ&tn=8Zss7M7Fd5zAw6-s&edm=ABfd0MgBAAAA&ccb=7-4&oh=00_AT_XyT6G1SEPKAb9A9k3rePmVe2gbNWzHYBntfHkZBFdmA&oe=61C14C21&_nc_sid=7bff83'}, {'configHeight': 180, 'configWidth': 320, 'src': 'https://scontent-ssn1-1.cdninstagram.com/v/t51.2885-15/e35/s320x320/265180693_435725061599079_2124485962759779003_n.jpg?_nc_ht=scontent-ssn1-1.cdninstagram.com&_nc_cat=103&_nc_ohc=9KKcvifgvLwAX84CFrZ&tn=8Zss7M7Fd5zAw6-s&edm=ABfd0MgBAAAA&ccb=7-4&oh=00_AT98YZ8yUi2EJMv_d5l22ReC8_NOvIpqMELFLvvya87XKA&oe=61C1885F&_nc_sid=7bff83'}, {'configHeight': 270, 'configWidth': 480, 'src': 'https://scontent-ssn1-1.cdninstagram.com/v/t51.2885-15/e35/s480x480/265180693_435725061599079_2124485962759779003_n.jpg?_nc_ht=scontent-ssn1-1.cdninstagram.com&_nc_cat=103&_nc_ohc=9KKcvifgvLwAX84CFrZ&tn=8Zss7M7Fd5zAw6-s&edm=ABfd0MgBAAAA&ccb=7-4&oh=00_AT8Y7gVCv8Xa5cbwtq8D_yKht9u0BciN6EQvqrPYXug56A&oe=61C1745A&_nc_sid=7bff83'}, {'configHeight': 360, 'configWidth': 640, 'src': 'https://scontent-ssn1-1.cdninstagram.com/v/t51.2885-15/sh0.08/e35/s640x640/265180693_435725061599079_2124485962759779003_n.jpg?_nc_ht=scontent-ssn1-1.cdninstagram.com&_nc_cat=103&_nc_ohc=9KKcvifgvLwAX84CFrZ&tn=8Zss7M7Fd5zAw6-s&edm=ABfd0MgBAAAA&ccb=7-4&oh=00_AT_w0pF7Is7csUi1h7u6k5ecGxNwWP23HpokaBPVx8PHsw&oe=61C1ADA4&_nc_sid=7bff83'}], 'date': 1639119472, 'tags': [], 'likes': {'count': 6080, 'list': []}, 'views': 69494, 'url': 'https://www.instagram.com/p/CXSu3fRpUIw/', 'comments': {'count': 129, 'list': []}, 'mentions': []}, {'caption': '이정도 보양이면 내년에도 둘 다 힘낼수밖에 없을거라고 봐.\\n\\nLink in bio👆\\n\\n#최자로드5 #참복 #장어 #방배동 #핫펠트 #선재', 'location': {}, 'imgs': [], 'imgdesc': [], 'preview_img': [{'configHeight': 150, 'configWidth': 150, 'src': 'https://scontent-ssn1-1.cdninstagram.com/v/t51.2885-15/e35/c317.0.806.806a/s150x150/265559331_471809014673544_7944709742229553653_n.jpg?_nc_ht=scontent-ssn1-1.cdninstagram.com&_nc_cat=100&_nc_ohc=cLnTfoi7adwAX_Re7r-&edm=ABfd0MgBAAAA&ccb=7-4&oh=00_AT8JT61ucqiVZa3NzS6WXiMQTGMJyP1tqgz3WOY6_JXXbg&oe=61C50713&_nc_sid=7bff83'}, {'configHeight': 240, 'configWidth': 240, 'src': 'https://scontent-ssn1-1.cdninstagram.com/v/t51.2885-15/e35/c317.0.806.806a/s240x240/265559331_471809014673544_7944709742229553653_n.jpg?_nc_ht=scontent-ssn1-1.cdninstagram.com&_nc_cat=100&_nc_ohc=cLnTfoi7adwAX_Re7r-&edm=ABfd0MgBAAAA&ccb=7-4&oh=00_AT_0-_dOvOPLuakZksyIA2q6x5olHVH4_eMRbmLV8uH98w&oe=61C645D5&_nc_sid=7bff83'}, {'configHeight': 320, 'configWidth': 320, 'src': 'https://scontent-ssn1-1.cdninstagram.com/v/t51.2885-15/e35/c317.0.806.806a/s320x320/265559331_471809014673544_7944709742229553653_n.jpg?_nc_ht=scontent-ssn1-1.cdninstagram.com&_nc_cat=100&_nc_ohc=cLnTfoi7adwAX_Re7r-&edm=ABfd0MgBAAAA&ccb=7-4&oh=00_AT88vq4DXQkfU0ohsG0_ItOpPQ6D88pmSlKJcykyqeLvkw&oe=61C55FAB&_nc_sid=7bff83'}, {'configHeight': 480, 'configWidth': 480, 'src': 'https://scontent-ssn1-1.cdninstagram.com/v/t51.2885-15/e35/c317.0.806.806a/s480x480/265559331_471809014673544_7944709742229553653_n.jpg?_nc_ht=scontent-ssn1-1.cdninstagram.com&_nc_cat=100&_nc_ohc=cLnTfoi7adwAX_Re7r-&edm=ABfd0MgBAAAA&ccb=7-4&oh=00_AT8GfSj1Df5bhaFQ3VTRw5r4F1b3Ss75SwY7CMsnSpL10A&oe=61C5A46E&_nc_sid=7bff83'}, {'configHeight': 640, 'configWidth': 640, 'src': 'https://scontent-ssn1-1.cdninstagram.com/v/t51.2885-15/sh0.08/e35/c317.0.806.806a/s640x640/265559331_471809014673544_7944709742229553653_n.jpg?_nc_ht=scontent-ssn1-1.cdninstagram.com&_nc_cat=100&_nc_ohc=cLnTfoi7adwAX_Re7r-&edm=ABfd0MgBAAAA&ccb=7-4&oh=00_AT_Sf4LspvlUZFeoooc75zSERrGsV9KckiFx1axqvsumCw&oe=61C5B616&_nc_sid=7bff83'}], 'date': 1639047834, 'tags': [], 'likes': {'count': 3709, 'list': []}, 'views': -1, 'url': 'https://www.instagram.com/p/CXQn4jkPw28/', 'comments': {'count': 32, 'list': []}, 'mentions': []}, {'caption': '여기 음식이 원래 좋았는데 디테일 하게 어느 부분이 달라진지 모르겠지만 이제는 매우 좋다고 봐.\\n\\n#도곡동 #이탈리안', 'location': {'location_url': 'https://www.instagram.com/explore/locations/383143/unknown-diner/', 'location_name': 'Unknown Diner', 'location_id': '383143', 'latitude': None, 'longitude': None}, 'imgs': [], 'imgdesc': [], 'preview_img': [{'configHeight': 150, 'configWidth': 150, 'src': 'https://scontent-ssn1-1.cdninstagram.com/v/t51.2885-15/e35/c180.0.1080.1080a/s150x150/264509727_1542358102764016_8474025004155843428_n.jpg?_nc_ht=scontent-ssn1-1.cdninstagram.com&_nc_cat=104&_nc_ohc=_cwJ50s1TPwAX-IuNEb&edm=ABfd0MgBAAAA&ccb=7-4&oh=00_AT-dcYfwnwIMUoBiOT8Aqb34aBPmDtVtKiH_fq1RzHTKsg&oe=61C68573&_nc_sid=7bff83'}, {'configHeight': 240, 'configWidth': 240, 'src': 'https://scontent-ssn1-1.cdninstagram.com/v/t51.2885-15/e35/c180.0.1080.1080a/s240x240/264509727_1542358102764016_8474025004155843428_n.jpg?_nc_ht=scontent-ssn1-1.cdninstagram.com&_nc_cat=104&_nc_ohc=_cwJ50s1TPwAX-IuNEb&edm=ABfd0MgBAAAA&ccb=7-4&oh=00_AT8OIOP3_hgsKIaoBnnei-MbAo0S9R9FILXX2mOG_qurrA&oe=61C6E83B&_nc_sid=7bff83'}, {'configHeight': 320, 'configWidth': 320, 'src': 'https://scontent-ssn1-1.cdninstagram.com/v/t51.2885-15/e35/c180.0.1080.1080a/s320x320/264509727_1542358102764016_8474025004155843428_n.jpg?_nc_ht=scontent-ssn1-1.cdninstagram.com&_nc_cat=104&_nc_ohc=_cwJ50s1TPwAX-IuNEb&edm=ABfd0MgBAAAA&ccb=7-4&oh=00_AT-9pfeYRpy-DYAI85DuBYFXRbILikn63Q-VdIsAv0mj7Q&oe=61C526E6&_nc_sid=7bff83'}, {'configHeight': 480, 'configWidth': 480, 'src': 'https://scontent-ssn1-1.cdninstagram.com/v/t51.2885-15/e35/c180.0.1080.1080a/s480x480/264509727_1542358102764016_8474025004155843428_n.jpg?_nc_ht=scontent-ssn1-1.cdninstagram.com&_nc_cat=104&_nc_ohc=_cwJ50s1TPwAX-IuNEb&edm=ABfd0MgBAAAA&ccb=7-4&oh=00_AT9afa35S3HhP9EKj2w2d_1v5g8OY6mvMixNQJySNzovLw&oe=61C6F068&_nc_sid=7bff83'}, {'configHeight': 640, 'configWidth': 640, 'src': 'https://scontent-ssn1-1.cdninstagram.com/v/t51.2885-15/sh0.08/e35/c180.0.1080.1080a/s640x640/264509727_1542358102764016_8474025004155843428_n.jpg?_nc_ht=scontent-ssn1-1.cdninstagram.com&_nc_cat=104&_nc_ohc=_cwJ50s1TPwAX-IuNEb&edm=ABfd0MgBAAAA&ccb=7-4&oh=00_AT98ESjYoim_18tIuL7HPgtHrdOD1cw-s7iuKt6QgPUpOQ&oe=61C5D95E&_nc_sid=7bff83'}], 'date': 1638869066, 'tags': [], 'likes': {'count': 7853, 'list': []}, 'views': -1, 'url': 'https://www.instagram.com/p/CXLS6Wpv5KF/', 'comments': {'count': 85, 'list': []}, 'mentions': []}, {'caption': '광일이 신스 개코 코쿤이 니네가 오늘밤 제일 멋있다! \\n\\n#쇼미더머니10 #코코 #울보 #조광일 #신스', 'location': {}, 'imgs': [], 'imgdesc': [], 'preview_img': [{'configHeight': 266, 'configWidth': 150, 'src': 'https://scontent-ssn1-1.cdninstagram.com/v/t51.2885-15/e35/p150x150/263164823_316155547050130_4404928344090578215_n.jpg?_nc_ht=scontent-ssn1-1.cdninstagram.com&_nc_cat=110&_nc_ohc=x3Nof5chN0AAX8P0sDG&edm=ABfd0MgBAAAA&ccb=7-4&oh=00_AT_pKueX4yGAkPMKe17Emy4KEIvQhFgttdPdp2Y8RC7YFg&oe=61C186FB&_nc_sid=7bff83'}, {'configHeight': 426, 'configWidth': 240, 'src': 'https://scontent-ssn1-1.cdninstagram.com/v/t51.2885-15/e35/p240x240/263164823_316155547050130_4404928344090578215_n.jpg?_nc_ht=scontent-ssn1-1.cdninstagram.com&_nc_cat=110&_nc_ohc=x3Nof5chN0AAX8P0sDG&edm=ABfd0MgBAAAA&ccb=7-4&oh=00_AT_WAMBIdGtGW-AsCN6sd1rbhWFK6_dWnN_Ouyw--uBgZA&oe=61C193BD&_nc_sid=7bff83'}, {'configHeight': 568, 'configWidth': 320, 'src': 'https://scontent-ssn1-1.cdninstagram.com/v/t51.2885-15/e35/p320x320/263164823_316155547050130_4404928344090578215_n.jpg?_nc_ht=scontent-ssn1-1.cdninstagram.com&_nc_cat=110&_nc_ohc=x3Nof5chN0AAX8P0sDG&edm=ABfd0MgBAAAA&ccb=7-4&oh=00_AT-WPnlRyD9zQCtM6BRRWpMRuZxDEtkpi6djFG0nLkLeWA&oe=61C13203&_nc_sid=7bff83'}, {'configHeight': 853, 'configWidth': 480, 'src': 'https://scontent-ssn1-1.cdninstagram.com/v/t51.2885-15/e35/p480x480/263164823_316155547050130_4404928344090578215_n.jpg?_nc_ht=scontent-ssn1-1.cdninstagram.com&_nc_cat=110&_nc_ohc=x3Nof5chN0AAX8P0sDG&edm=ABfd0MgBAAAA&ccb=7-4&oh=00_AT-TD1laoSWpOQGMSyhabAC_NXqRFPiFmmpv7sgZRoBcGg&oe=61C19A46&_nc_sid=7bff83'}, {'configHeight': 1137, 'configWidth': 640, 'src': 'https://scontent-ssn1-1.cdninstagram.com/v/t51.2885-15/sh0.08/e35/p640x640/263164823_316155547050130_4404928344090578215_n.jpg?_nc_ht=scontent-ssn1-1.cdninstagram.com&_nc_cat=110&_nc_ohc=x3Nof5chN0AAX8P0sDG&edm=ABfd0MgBAAAA&ccb=7-4&oh=00_AT9qcZW3r4u0yAKGCnvcAqIPsZ-ymd02vQCFwfQ4LZejDA&oe=61C15580&_nc_sid=7bff83'}], 'date': 1638551673, 'tags': [], 'likes': {'count': 9965, 'list': []}, 'views': 135105, 'url': 'https://www.instagram.com/p/CXB1Ji-rSFU/', 'comments': {'count': 56, 'list': []}, 'mentions': []}, {'caption': '저번꺼 분위기 넘 좋아서 옛집에서 옛사람 한 분 더 모시고 옛날이야기 좀 더 해본다고 봐. \\n\\nLink in bio👆\\n\\n#최자로드5 #감동실화 #옛집 #masterplan #legendofkhiphop', 'location': {}, 'imgs': [], 'imgdesc': [], 'preview_img': [{'configHeight': 150, 'configWidth': 150, 'src': 'https://scontent-ssn1-1.cdninstagram.com/v/t51.2885-15/e35/c313.0.813.813a/s150x150/262959865_133181515768843_7802197257970848288_n.jpg?_nc_ht=scontent-ssn1-1.cdninstagram.com&_nc_cat=107&_nc_ohc=MWj4kjOa1_AAX8wVzGG&tn=8Zss7M7Fd5zAw6-s&edm=ABfd0MgBAAAA&ccb=7-4&oh=00_AT-g3h0oqJ2ym0p2B6z5WCfJVmGJLZe90Bf0k3_OxpXawQ&oe=61C5BED6&_nc_sid=7bff83'}, {'configHeight': 240, 'configWidth': 240, 'src': 'https://scontent-ssn1-1.cdninstagram.com/v/t51.2885-15/e35/c313.0.813.813a/s240x240/262959865_133181515768843_7802197257970848288_n.jpg?_nc_ht=scontent-ssn1-1.cdninstagram.com&_nc_cat=107&_nc_ohc=MWj4kjOa1_AAX8wVzGG&tn=8Zss7M7Fd5zAw6-s&edm=ABfd0MgBAAAA&ccb=7-4&oh=00_AT8s56H3bX5KidCYSfAgJBLOC0a1be0KLb2HiSvNH7YkpA&oe=61C67254&_nc_sid=7bff83'}, {'configHeight': 320, 'configWidth': 320, 'src': 'https://scontent-ssn1-1.cdninstagram.com/v/t51.2885-15/e35/c313.0.813.813a/s320x320/262959865_133181515768843_7802197257970848288_n.jpg?_nc_ht=scontent-ssn1-1.cdninstagram.com&_nc_cat=107&_nc_ohc=MWj4kjOa1_AAX8wVzGG&tn=8Zss7M7Fd5zAw6-s&edm=ABfd0MgBAAAA&ccb=7-4&oh=00_AT-cGh1Xx7jzNvWzhRHGp8uFhTl5M_Yrlvgfg2vjPy75Sg&oe=61C6B56E&_nc_sid=7bff83'}, {'configHeight': 480, 'configWidth': 480, 'src': 'https://scontent-ssn1-1.cdninstagram.com/v/t51.2885-15/e35/c313.0.813.813a/s480x480/262959865_133181515768843_7802197257970848288_n.jpg?_nc_ht=scontent-ssn1-1.cdninstagram.com&_nc_cat=107&_nc_ohc=MWj4kjOa1_AAX8wVzGG&tn=8Zss7M7Fd5zAw6-s&edm=ABfd0MgBAAAA&ccb=7-4&oh=00_AT9NkrIYbotIRXlw0-9rF_6E5adKl9UPsD8wZh0toRRtlA&oe=61C68B2B&_nc_sid=7bff83'}, {'configHeight': 640, 'configWidth': 640, 'src': 'https://scontent-ssn1-1.cdninstagram.com/v/t51.2885-15/sh0.08/e35/c313.0.813.813a/s640x640/262959865_133181515768843_7802197257970848288_n.jpg?_nc_ht=scontent-ssn1-1.cdninstagram.com&_nc_cat=107&_nc_ohc=MWj4kjOa1_AAX8wVzGG&tn=8Zss7M7Fd5zAw6-s&edm=ABfd0MgBAAAA&ccb=7-4&oh=00_AT-bs8c5cokSlwkd94W8Q1T33MIpBbV0Xs1NznP0aNH92g&oe=61C6B0D3&_nc_sid=7bff83'}], 'date': 1638436135, 'tags': [], 'likes': {'count': 5560, 'list': []}, 'views': -1, 'url': 'https://www.instagram.com/p/CW-ZKV6PcDf/', 'comments': {'count': 52, 'list': []}, 'mentions': []}, {'caption': '같은 음식 다른 맛있음. \\n\\n명화식육식당이 하동관이라면 여기는 애성회관이라고 봐.\\n\\n#애호박국밥 #광주', 'location': {'location_url': 'https://www.instagram.com/explore/locations/139320924631139//', 'location_name': '송원식육식당', 'location_id': '139320924631139', 'latitude': None, 'longitude': None}, 'imgs': [], 'imgdesc': [], 'preview_img': [{'configHeight': 150, 'configWidth': 150, 'src': 'https://scontent-ssn1-1.cdninstagram.com/v/t51.2885-15/e35/c180.0.1080.1080a/s150x150/262202808_971078306781560_6772082037039937589_n.jpg?_nc_ht=scontent-ssn1-1.cdninstagram.com&_nc_cat=108&_nc_ohc=HgscIwEVDO8AX8EqLIo&edm=ABfd0MgBAAAA&ccb=7-4&oh=00_AT8ml5GH5WM80Roar-ywquUgpls4YYCZxIh6eZBM5HQmxQ&oe=61C5B5B4&_nc_sid=7bff83'}, {'configHeight': 240, 'configWidth': 240, 'src': 'https://scontent-ssn1-1.cdninstagram.com/v/t51.2885-15/e35/c180.0.1080.1080a/s240x240/262202808_971078306781560_6772082037039937589_n.jpg?_nc_ht=scontent-ssn1-1.cdninstagram.com&_nc_cat=108&_nc_ohc=HgscIwEVDO8AX8EqLIo&edm=ABfd0MgBAAAA&ccb=7-4&oh=00_AT-kx_VsdXlf71DRDKN-7fMv6Di17Fa2PSslZk1E2QmL6Q&oe=61C69036&_nc_sid=7bff83'}, {'configHeight': 320, 'configWidth': 320, 'src': 'https://scontent-ssn1-1.cdninstagram.com/v/t51.2885-15/e35/c180.0.1080.1080a/s320x320/262202808_971078306781560_6772082037039937589_n.jpg?_nc_ht=scontent-ssn1-1.cdninstagram.com&_nc_cat=108&_nc_ohc=HgscIwEVDO8AX8EqLIo&edm=ABfd0MgBAAAA&ccb=7-4&oh=00_AT_Bg57snaDsBDoh6HV8BUcJ4T_HSBKxUuaXp8YfBdDgUQ&oe=61C6378C&_nc_sid=7bff83'}, {'configHeight': 480, 'configWidth': 480, 'src': 'https://scontent-ssn1-1.cdninstagram.com/v/t51.2885-15/e35/c180.0.1080.1080a/s480x480/262202808_971078306781560_6772082037039937589_n.jpg?_nc_ht=scontent-ssn1-1.cdninstagram.com&_nc_cat=108&_nc_ohc=HgscIwEVDO8AX8EqLIo&edm=ABfd0MgBAAAA&ccb=7-4&oh=00_AT95iIv29VH6GfNsLWmGnPgGMpKWjGnX02z2aj07uDK6lg&oe=61C6F5CD&_nc_sid=7bff83'}, {'configHeight': 640, 'configWidth': 640, 'src': 'https://scontent-ssn1-1.cdninstagram.com/v/t51.2885-15/sh0.08/e35/c180.0.1080.1080a/s640x640/262202808_971078306781560_6772082037039937589_n.jpg?_nc_ht=scontent-ssn1-1.cdninstagram.com&_nc_cat=108&_nc_ohc=HgscIwEVDO8AX8EqLIo&edm=ABfd0MgBAAAA&ccb=7-4&oh=00_AT_RS3a9EjfBGxKi7pOLmFzCsKGmJi5kfV16NW_gg_DdXA&oe=61C6BD04&_nc_sid=7bff83'}], 'date': 1638262652, 'tags': [], 'likes': {'count': 4507, 'list': []}, 'views': -1, 'url': 'https://www.instagram.com/p/CW5ORJhPMAg/', 'comments': {'count': 63, 'list': []}, 'mentions': []}, {'caption': '이탈리아 변두리 동네식당같은 편안함. 푸짐한 양과 투박한 맛에 이미 정들어버림', 'location': {'location_url': 'https://www.instagram.com/explore/locations/415915676/brera/', 'location_name': 'Brera', 'location_id': '415915676', 'latitude': None, 'longitude': None}, 'imgs': [], 'imgdesc': [], 'preview_img': [{'configHeight': 150, 'configWidth': 150, 'src': 'https://scontent-ssn1-1.cdninstagram.com/v/t51.2885-15/e35/c179.0.1081.1081a/s150x150/262108664_427316448944594_2721522123269051475_n.jpg?_nc_ht=scontent-ssn1-1.cdninstagram.com&_nc_cat=102&_nc_ohc=IoZb3oyUcoYAX8U05TB&edm=ABfd0MgBAAAA&ccb=7-4&oh=00_AT998ouUob7FTv7-5cxNPY_vBoqxv9EfaaXKuLV6DiiD5w&oe=61C53FBE&_nc_sid=7bff83'}, {'configHeight': 240, 'configWidth': 240, 'src': 'https://scontent-ssn1-1.cdninstagram.com/v/t51.2885-15/e35/c179.0.1081.1081a/s240x240/262108664_427316448944594_2721522123269051475_n.jpg?_nc_ht=scontent-ssn1-1.cdninstagram.com&_nc_cat=102&_nc_ohc=IoZb3oyUcoYAX8U05TB&edm=ABfd0MgBAAAA&ccb=7-4&oh=00_AT-z23JN8d7FpmebGsoiO4RkFHgTkYu2lbgEnaJsa9xvig&oe=61C6C3FC&_nc_sid=7bff83'}, {'configHeight': 320, 'configWidth': 320, 'src': 'https://scontent-ssn1-1.cdninstagram.com/v/t51.2885-15/e35/c179.0.1081.1081a/s320x320/262108664_427316448944594_2721522123269051475_n.jpg?_nc_ht=scontent-ssn1-1.cdninstagram.com&_nc_cat=102&_nc_ohc=IoZb3oyUcoYAX8U05TB&edm=ABfd0MgBAAAA&ccb=7-4&oh=00_AT_8guAfXY6xWbJJoh6xAtKW7ZyEcxXnJZx0nT9vxYupgw&oe=61C65D06&_nc_sid=7bff83'}, {'configHeight': 480, 'configWidth': 480, 'src': 'https://scontent-ssn1-1.cdninstagram.com/v/t51.2885-15/e35/c179.0.1081.1081a/s480x480/262108664_427316448944594_2721522123269051475_n.jpg?_nc_ht=scontent-ssn1-1.cdninstagram.com&_nc_cat=102&_nc_ohc=IoZb3oyUcoYAX8U05TB&edm=ABfd0MgBAAAA&ccb=7-4&oh=00_AT-oWGhv5FAK16BShZFQMXDy-_AFfUL6fqixutJXYtw-DQ&oe=61C6CDC3&_nc_sid=7bff83'}, {'configHeight': 640, 'configWidth': 640, 'src': 'https://scontent-ssn1-1.cdninstagram.com/v/t51.2885-15/sh0.08/e35/c179.0.1081.1081a/s640x640/262108664_427316448944594_2721522123269051475_n.jpg?_nc_ht=scontent-ssn1-1.cdninstagram.com&_nc_cat=102&_nc_ohc=IoZb3oyUcoYAX8U05TB&edm=ABfd0MgBAAAA&ccb=7-4&oh=00_AT_m49m1uTgRQGcjl4tBqmXxVYBFsceg-by5pkG_n0COAA&oe=61C5880E&_nc_sid=7bff83'}], 'date': 1638165934, 'tags': [], 'likes': {'count': 3766, 'list': []}, 'views': -1, 'url': 'https://www.instagram.com/p/CW2Vy17vWVr/', 'comments': {'count': 41, 'list': []}, 'mentions': []}, {'caption': '진규어머님 따주신 굴에 울엄마 김장김치면 뭐 굳나잇이라고 봐', 'location': {}, 'imgs': [], 'imgdesc': [], 'preview_img': [{'configHeight': 150, 'configWidth': 150, 'src': 'https://scontent-ssn1-1.cdninstagram.com/v/t51.2885-15/e35/s150x150/261976232_614325782950061_2696699579409854832_n.jpg?_nc_ht=scontent-ssn1-1.cdninstagram.com&_nc_cat=105&_nc_ohc=TKNKMIVo1XgAX840vY1&edm=ABfd0MgBAAAA&ccb=7-4&oh=00_AT_8_5anHzvCTx1QUAx7r9ezRQcFZMjn-wdxltqiKkGMhQ&oe=61C53319&_nc_sid=7bff83'}, {'configHeight': 240, 'configWidth': 240, 'src': 'https://scontent-ssn1-1.cdninstagram.com/v/t51.2885-15/e35/s240x240/261976232_614325782950061_2696699579409854832_n.jpg?_nc_ht=scontent-ssn1-1.cdninstagram.com&_nc_cat=105&_nc_ohc=TKNKMIVo1XgAX840vY1&edm=ABfd0MgBAAAA&ccb=7-4&oh=00_AT-5R2h-Ad-lQ4sA5GFcqr1eG2oJvZhhE5NCz7DETRKdSA&oe=61C5B9DF&_nc_sid=7bff83'}, {'configHeight': 320, 'configWidth': 320, 'src': 'https://scontent-ssn1-1.cdninstagram.com/v/t51.2885-15/e35/s320x320/261976232_614325782950061_2696699579409854832_n.jpg?_nc_ht=scontent-ssn1-1.cdninstagram.com&_nc_cat=105&_nc_ohc=TKNKMIVo1XgAX840vY1&edm=ABfd0MgBAAAA&ccb=7-4&oh=00_AT_VGJ4s959O00bFUiaAiSEvoBZR36_gxYAB4gcPZsghbQ&oe=61C61DE1&_nc_sid=7bff83'}, {'configHeight': 480, 'configWidth': 480, 'src': 'https://scontent-ssn1-1.cdninstagram.com/v/t51.2885-15/e35/s480x480/261976232_614325782950061_2696699579409854832_n.jpg?_nc_ht=scontent-ssn1-1.cdninstagram.com&_nc_cat=105&_nc_ohc=TKNKMIVo1XgAX840vY1&edm=ABfd0MgBAAAA&ccb=7-4&oh=00_AT-TIyNhwdweRflw5X-unSE-YdXcJAu_RLK31OM0XMjxJg&oe=61C65968&_nc_sid=7bff83'}, {'configHeight': 640, 'configWidth': 640, 'src': 'https://scontent-ssn1-1.cdninstagram.com/v/t51.2885-15/sh0.08/e35/s640x640/261976232_614325782950061_2696699579409854832_n.jpg?_nc_ht=scontent-ssn1-1.cdninstagram.com&_nc_cat=105&_nc_ohc=TKNKMIVo1XgAX840vY1&edm=ABfd0MgBAAAA&ccb=7-4&oh=00_AT-0Iw995XV_M_W2AtTHp0dY5wlUnWrcIsHnHtkT00wWmA&oe=61C5221E&_nc_sid=7bff83'}], 'date': 1638009550, 'tags': [], 'likes': {'count': 6001, 'list': []}, 'views': -1, 'url': 'https://www.instagram.com/p/CWxrhAkvWcO/', 'comments': {'count': 42, 'list': []}, 'mentions': []}, {'caption': '이 돈까스가 마스터플랜에서 시작된 배고픈 한국 힙합 언더그라운드를 먹여서 키웠다고 봐. 원엔온리 돈까스 소스\\n\\nLink in bio☝️\\n#최자로드5 #옛집 #마스터플랜 #돼칼코마니 #겨울돼지룩', 'location': {'location_url': 'https://www.instagram.com/explore/locations/408798359//', 'location_name': '홍대 옛집', 'location_id': '408798359', 'latitude': None, 'longitude': None}, 'imgs': [], 'imgdesc': [], 'preview_img': [{'configHeight': 150, 'configWidth': 150, 'src': 'https://scontent-ssn1-1.cdninstagram.com/v/t51.2885-15/e35/c318.0.804.804a/s150x150/260511524_327204612161090_5073062025551529714_n.jpg?_nc_ht=scontent-ssn1-1.cdninstagram.com&_nc_cat=102&_nc_ohc=_WNH2aZe4C8AX8y-7uD&edm=ABfd0MgBAAAA&ccb=7-4&oh=00_AT8Y-eWn1k-nduu7AXVronaaKa325q_iF1dBSuTZJXHnjw&oe=61C59389&_nc_sid=7bff83'}, {'configHeight': 240, 'configWidth': 240, 'src': 'https://scontent-ssn1-1.cdninstagram.com/v/t51.2885-15/e35/c318.0.804.804a/s240x240/260511524_327204612161090_5073062025551529714_n.jpg?_nc_ht=scontent-ssn1-1.cdninstagram.com&_nc_cat=102&_nc_ohc=_WNH2aZe4C8AX8y-7uD&edm=ABfd0MgBAAAA&ccb=7-4&oh=00_AT-8AdPd8d4yIEgIvNLEWTQlbGUPIVDf2RTPoAJzeHaYTg&oe=61C597CF&_nc_sid=7bff83'}, {'configHeight': 320, 'configWidth': 320, 'src': 'https://scontent-ssn1-1.cdninstagram.com/v/t51.2885-15/e35/c318.0.804.804a/s320x320/260511524_327204612161090_5073062025551529714_n.jpg?_nc_ht=scontent-ssn1-1.cdninstagram.com&_nc_cat=102&_nc_ohc=_WNH2aZe4C8AX8y-7uD&edm=ABfd0MgBAAAA&ccb=7-4&oh=00_AT_uz38CIUcEtQoXqkF_n_jcF86H6E1yqZpOlkdQzCD1Bg&oe=61C5A0B1&_nc_sid=7bff83'}, {'configHeight': 480, 'configWidth': 480, 'src': 'https://scontent-ssn1-1.cdninstagram.com/v/t51.2885-15/e35/c318.0.804.804a/s480x480/260511524_327204612161090_5073062025551529714_n.jpg?_nc_ht=scontent-ssn1-1.cdninstagram.com&_nc_cat=102&_nc_ohc=_WNH2aZe4C8AX8y-7uD&edm=ABfd0MgBAAAA&ccb=7-4&oh=00_AT8_Yr6golPeZhmse2bpKc1Z5-nI44kI-7PIaoHb2DwY9g&oe=61C69A38&_nc_sid=7bff83'}, {'configHeight': 640, 'configWidth': 640, 'src': 'https://scontent-ssn1-1.cdninstagram.com/v/t51.2885-15/sh0.08/e35/c318.0.804.804a/s640x640/260511524_327204612161090_5073062025551529714_n.jpg?_nc_ht=scontent-ssn1-1.cdninstagram.com&_nc_cat=102&_nc_ohc=_WNH2aZe4C8AX8y-7uD&edm=ABfd0MgBAAAA&ccb=7-4&oh=00_AT-2-tWxQpgH-nkbSXwfLGdNLQnPx4aubAWyAiOwvVN1NQ&oe=61C6A1D0&_nc_sid=7bff83'}], 'date': 1637833084, 'tags': [], 'likes': {'count': 4894, 'list': []}, 'views': -1, 'url': 'https://www.instagram.com/p/CWsa7t9v10a/', 'comments': {'count': 101, 'list': []}, 'mentions': []}], 'scraped': '2021-12-19 19:59:36'}\n"
     ]
    }
   ],
   "source": [
    "import os\n",
    "import json\n",
    "\n",
    "files = os.listdir('./instagram_crawler/util/profiles')\n",
    "\n",
    "for f in files:\n",
    "    if 'json' in f:\n",
    "        path = './instagram_crawler/util/profiles/' + f\n",
    "\n",
    "with open(path) as p:\n",
    "    data = json.load(p)\n",
    "\n",
    "print(data)"
   ]
  },
  {
   "cell_type": "code",
   "execution_count": 4,
   "metadata": {},
   "outputs": [],
   "source": [
    "import pandas as pd"
   ]
  },
  {
   "cell_type": "code",
   "execution_count": 5,
   "metadata": {},
   "outputs": [],
   "source": [
    "df = pd.DataFrame(data['posts'])"
   ]
  },
  {
   "cell_type": "code",
   "execution_count": 10,
   "metadata": {},
   "outputs": [],
   "source": [
    "df = df[df.location != {}]"
   ]
  },
  {
   "cell_type": "code",
   "execution_count": 12,
   "metadata": {},
   "outputs": [
    {
     "data": {
      "text/html": [
       "<div>\n",
       "<style scoped>\n",
       "    .dataframe tbody tr th:only-of-type {\n",
       "        vertical-align: middle;\n",
       "    }\n",
       "\n",
       "    .dataframe tbody tr th {\n",
       "        vertical-align: top;\n",
       "    }\n",
       "\n",
       "    .dataframe thead th {\n",
       "        text-align: right;\n",
       "    }\n",
       "</style>\n",
       "<table border=\"1\" class=\"dataframe\">\n",
       "  <thead>\n",
       "    <tr style=\"text-align: right;\">\n",
       "      <th></th>\n",
       "      <th>caption</th>\n",
       "      <th>location</th>\n",
       "      <th>imgs</th>\n",
       "      <th>imgdesc</th>\n",
       "      <th>preview_img</th>\n",
       "      <th>date</th>\n",
       "      <th>tags</th>\n",
       "      <th>likes</th>\n",
       "      <th>views</th>\n",
       "      <th>url</th>\n",
       "      <th>comments</th>\n",
       "      <th>mentions</th>\n",
       "    </tr>\n",
       "  </thead>\n",
       "  <tbody>\n",
       "    <tr>\n",
       "      <th>1</th>\n",
       "      <td>False</td>\n",
       "      <td>False</td>\n",
       "      <td>False</td>\n",
       "      <td>False</td>\n",
       "      <td>False</td>\n",
       "      <td>False</td>\n",
       "      <td>False</td>\n",
       "      <td>False</td>\n",
       "      <td>False</td>\n",
       "      <td>False</td>\n",
       "      <td>False</td>\n",
       "      <td>False</td>\n",
       "    </tr>\n",
       "    <tr>\n",
       "      <th>2</th>\n",
       "      <td>False</td>\n",
       "      <td>False</td>\n",
       "      <td>False</td>\n",
       "      <td>False</td>\n",
       "      <td>False</td>\n",
       "      <td>False</td>\n",
       "      <td>False</td>\n",
       "      <td>False</td>\n",
       "      <td>False</td>\n",
       "      <td>False</td>\n",
       "      <td>False</td>\n",
       "      <td>False</td>\n",
       "    </tr>\n",
       "    <tr>\n",
       "      <th>5</th>\n",
       "      <td>False</td>\n",
       "      <td>False</td>\n",
       "      <td>False</td>\n",
       "      <td>False</td>\n",
       "      <td>False</td>\n",
       "      <td>False</td>\n",
       "      <td>False</td>\n",
       "      <td>False</td>\n",
       "      <td>False</td>\n",
       "      <td>False</td>\n",
       "      <td>False</td>\n",
       "      <td>False</td>\n",
       "    </tr>\n",
       "    <tr>\n",
       "      <th>8</th>\n",
       "      <td>False</td>\n",
       "      <td>False</td>\n",
       "      <td>False</td>\n",
       "      <td>False</td>\n",
       "      <td>False</td>\n",
       "      <td>False</td>\n",
       "      <td>False</td>\n",
       "      <td>False</td>\n",
       "      <td>False</td>\n",
       "      <td>False</td>\n",
       "      <td>False</td>\n",
       "      <td>False</td>\n",
       "    </tr>\n",
       "    <tr>\n",
       "      <th>9</th>\n",
       "      <td>False</td>\n",
       "      <td>False</td>\n",
       "      <td>False</td>\n",
       "      <td>False</td>\n",
       "      <td>False</td>\n",
       "      <td>False</td>\n",
       "      <td>False</td>\n",
       "      <td>False</td>\n",
       "      <td>False</td>\n",
       "      <td>False</td>\n",
       "      <td>False</td>\n",
       "      <td>False</td>\n",
       "    </tr>\n",
       "    <tr>\n",
       "      <th>11</th>\n",
       "      <td>False</td>\n",
       "      <td>False</td>\n",
       "      <td>False</td>\n",
       "      <td>False</td>\n",
       "      <td>False</td>\n",
       "      <td>False</td>\n",
       "      <td>False</td>\n",
       "      <td>False</td>\n",
       "      <td>False</td>\n",
       "      <td>False</td>\n",
       "      <td>False</td>\n",
       "      <td>False</td>\n",
       "    </tr>\n",
       "  </tbody>\n",
       "</table>\n",
       "</div>"
      ],
      "text/plain": [
       "    caption  location   imgs  imgdesc  preview_img   date   tags  likes  \\\n",
       "1     False     False  False    False        False  False  False  False   \n",
       "2     False     False  False    False        False  False  False  False   \n",
       "5     False     False  False    False        False  False  False  False   \n",
       "8     False     False  False    False        False  False  False  False   \n",
       "9     False     False  False    False        False  False  False  False   \n",
       "11    False     False  False    False        False  False  False  False   \n",
       "\n",
       "    views    url  comments  mentions  \n",
       "1   False  False     False     False  \n",
       "2   False  False     False     False  \n",
       "5   False  False     False     False  \n",
       "8   False  False     False     False  \n",
       "9   False  False     False     False  \n",
       "11  False  False     False     False  "
      ]
     },
     "execution_count": 12,
     "metadata": {},
     "output_type": "execute_result"
    }
   ],
   "source": [
    "df.isna()"
   ]
  },
  {
   "cell_type": "code",
   "execution_count": null,
   "metadata": {},
   "outputs": [],
   "source": []
  }
 ],
 "metadata": {
  "interpreter": {
   "hash": "443f540d8bb848efa21173d16e8b683e37f504ed0e06f22da4d09d807ef27b27"
  },
  "kernelspec": {
   "display_name": "Python 3.8.7 64-bit ('DaeJi': venv)",
   "language": "python",
   "name": "python3"
  },
  "language_info": {
   "codemirror_mode": {
    "name": "ipython",
    "version": 3
   },
   "file_extension": ".py",
   "mimetype": "text/x-python",
   "name": "python",
   "nbconvert_exporter": "python",
   "pygments_lexer": "ipython3",
   "version": "3.8.7"
  },
  "orig_nbformat": 4
 },
 "nbformat": 4,
 "nbformat_minor": 2
}
